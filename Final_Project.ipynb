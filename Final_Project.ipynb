{
 "cells": [
  {
   "cell_type": "markdown",
   "id": "3ef2f820-81dd-4331-a05e-60d84be83a3d",
   "metadata": {},
   "source": [
    "# Final Project"
   ]
  },
  {
   "cell_type": "markdown",
   "id": "900444b2-f0a9-438a-9930-3fd62a6d9a76",
   "metadata": {},
   "source": [
    "### Name: Drew Norton"
   ]
  },
  {
   "cell_type": "code",
   "execution_count": 295,
   "id": "428f6dae-d2eb-430c-987d-6dfb83cf944c",
   "metadata": {},
   "outputs": [],
   "source": [
    "import pandas as pd\n",
    "from selenium import webdriver\n",
    "import matplotlib.pyplot as plt\n",
    "import os"
   ]
  },
  {
   "cell_type": "code",
   "execution_count": 297,
   "id": "386c1eae-70de-4825-bd26-91319c9ce86a",
   "metadata": {},
   "outputs": [],
   "source": [
    "file_path = r\"/Users/drewnorton/Downloads/data 200/chromedriver-mac-arm64/chromedriver\"\n",
    "absolute_file_path = os.path.abspath(file_path)\n",
    "service = webdriver.ChromeService()\n",
    "driver = webdriver.Chrome()\n",
    "driver.get('https://www.baseball-reference.com/leagues/majors/2025-standard-batting.shtml')"
   ]
  },
  {
   "cell_type": "code",
   "execution_count": 299,
   "id": "bc86f757-ab72-41aa-af58-5585069efd82",
   "metadata": {},
   "outputs": [
    {
     "data": {
      "text/plain": [
       "[[35.0, 0.252],\n",
       " [37.0, 0.341],\n",
       " [39.0, 0.234],\n",
       " [35.0, 0.233],\n",
       " [35.0, 0.304],\n",
       " [38.0, 0.257],\n",
       " [37.0, 0.183],\n",
       " [35.0, 0.362],\n",
       " [35.0, 0.225],\n",
       " [35.0, 0.235],\n",
       " [36.0, 0.188],\n",
       " [35.0, 0.193],\n",
       " [35.0, 0.271],\n",
       " [35.0, 0.182],\n",
       " [40.0, 0.17],\n",
       " [35.0, 0.254],\n",
       " [37.0, 0.148],\n",
       " [38.0, 0.204],\n",
       " [36.0, 0.25],\n",
       " [36.0, 0.217],\n",
       " [35.0, 0.225],\n",
       " [36.0, 0.294],\n",
       " [41.0, 0.111],\n",
       " [36.0, 0.237],\n",
       " [35.0, 0.429]]"
      ]
     },
     "execution_count": 299,
     "metadata": {},
     "output_type": "execute_result"
    }
   ],
   "source": [
    "def player_age_success(age_min, avg_min):\n",
    "    playeragelist = []\n",
    "    rows = driver.find_elements('xpath', '//*[@id=\"players_standard_batting\"]/tbody/tr')\n",
    "    for row in rows:\n",
    "        try:\n",
    "            age_element = row.find_element('xpath', './td[@data-stat=\"age\"]')\n",
    "            avg_element = row.find_element('xpath', './td[@data-stat=\"b_batting_avg\"]')\n",
    "            player_age = age_element.text\n",
    "            batting_avg = avg_element.text\n",
    "            if int(player_age) >= age_min and batting_avg != \"\":\n",
    "                if float(batting_avg) >= avg_min:\n",
    "                    playeragelist.append([float(player_age), float(batting_avg)])\n",
    "        except:\n",
    "            continue\n",
    "    return playeragelist\n",
    "player_age_success(35, .100)"
   ]
  },
  {
   "cell_type": "markdown",
   "id": "ae9c2aae-cd32-4899-93ea-b9c640df2a86",
   "metadata": {},
   "source": [
    "### Description:"
   ]
  },
  {
   "cell_type": "markdown",
   "id": "2e86a3c1-3970-48ec-9008-122daf359297",
   "metadata": {},
   "source": [
    "The path I created goes to  the \"Standard Batting\" stats table on Baseball Reference’s 2025 MLB batting stats page. This table has an identifiable structure with each row <tr> representing a player and each data cell <td> marked with a data-stat attribute making it easy to filter through the batting averages and ages. My function navigates this table using XPath to locate all player rows within the the table body. It then isolates each player’s age and batting average by referencing the specific data-stat values that I was able to recognize a pattern in. For each player it had data-stat= and then either \"age\" or \"b_batting_avg\" depending on what cell I was in(there were also other stats that are irrelevant in my case). The function filters for players above the inputted age (age_min) and with a batting average above an inputted threshold (avg_min), and appends the results to a list. This approach uses the website's nice labeling (data-stat) to reliably extract specific statistics. The result is a list of lists of ages and batting averages above a specific threshold. In my function call I retrieve age and average of players over 35 years old and an average above 100."
   ]
  },
  {
   "cell_type": "code",
   "execution_count": 302,
   "id": "8f96a1ec-d88f-4003-87f9-05e0b132cd6a",
   "metadata": {},
   "outputs": [
    {
     "name": "stdout",
     "output_type": "stream",
     "text": [
      "     Age  Batting Average\n",
      "0   35.0            0.182\n",
      "1   35.0            0.193\n",
      "2   35.0            0.225\n",
      "3   35.0            0.225\n",
      "4   35.0            0.233\n",
      "5   35.0            0.235\n",
      "6   35.0            0.252\n",
      "7   35.0            0.254\n",
      "8   35.0            0.271\n",
      "9   35.0            0.304\n",
      "10  35.0            0.362\n",
      "11  35.0            0.429\n",
      "12  36.0            0.188\n",
      "13  36.0            0.217\n",
      "14  36.0            0.237\n",
      "15  36.0            0.250\n",
      "16  36.0            0.294\n",
      "17  37.0            0.148\n",
      "18  37.0            0.183\n",
      "19  37.0            0.341\n",
      "20  38.0            0.204\n",
      "21  38.0            0.257\n",
      "22  39.0            0.234\n",
      "23  40.0            0.170\n",
      "24  41.0            0.111\n"
     ]
    }
   ],
   "source": [
    "results = player_age_success(35, 0.100)\n",
    "df = pd.DataFrame(results, columns=[\"Age\", \"Batting Average\"]).sort_values(by=['Age', 'Batting Average'], ascending = [True, True]).reset_index(drop=True)\n",
    "print(df)"
   ]
  },
  {
   "cell_type": "markdown",
   "id": "0b6bc7fa-6889-48d3-9b18-b03921dd67e1",
   "metadata": {},
   "source": [
    "### Description:"
   ]
  },
  {
   "cell_type": "markdown",
   "id": "fc6b7bae-3f84-4ffb-9965-908b91949dd1",
   "metadata": {},
   "source": [
    "Here I made the data I retrieved from my function of batting averages over 100 for players over 35. Each cell is a single value, each row is an observation, and each column is a variable. This means it satisfies all the requirements of tidy data. The only thing I needed to add was the column names and sorting the data first by age, then by batting average, resetting the indexes."
   ]
  },
  {
   "cell_type": "code",
   "execution_count": 305,
   "id": "fb983327-276d-4d89-b560-59aecaec67f3",
   "metadata": {},
   "outputs": [
    {
     "data": {
      "image/png": "[encoded data removed]",
      "text/plain": [
       "<Figure size 800x500 with 1 Axes>"
      ]
     },
     "metadata": {},
     "output_type": "display_data"
    }
   ],
   "source": [
    "plt.figure(figsize=(8, 5))\n",
    "plt.hist(df[\"Age\"], bins=10, color=\"skyblue\", edgecolor=\"black\")\n",
    "plt.title(\"Distribution of Ages (Avg ≥ .100)\")\n",
    "plt.xlabel(\"Age\")\n",
    "plt.ylabel(\"Frequency\")\n",
    "plt.show()"
   ]
  },
  {
   "cell_type": "code",
   "execution_count": 307,
   "id": "1de88a62-5cb7-45d3-8a06-09aa05fd660b",
   "metadata": {},
   "outputs": [
    {
     "data": {
      "image/png": "[encoded data removed]",
      "text/plain": [
       "<Figure size 640x480 with 1 Axes>"
      ]
     },
     "metadata": {},
     "output_type": "display_data"
    }
   ],
   "source": [
    "plt.scatter(df[\"Age\"], df[\"Batting Average\"], color='blue')\n",
    "plt.title(\"Batting Average by Player Age (Age ≥ 35 and Avg ≥ .100)\")\n",
    "plt.xlabel(\"Age\")\n",
    "plt.ylabel(\"Batting Average\")\n",
    "plt.show()"
   ]
  },
  {
   "cell_type": "markdown",
   "id": "e84e5c8c-a06f-42f4-aa23-a5d23268551d",
   "metadata": {},
   "source": [
    "### Description:"
   ]
  },
  {
   "cell_type": "markdown",
   "id": "56496837-433e-451e-ab2c-0c7a7fba48f4",
   "metadata": {},
   "source": [
    "The first visualization is showing a frequency distribution for players' age given that they are hitting over .100 and are 35 or older. This is interesting because it displays a descending histogram. Players that are exactly 35 have by far the most representation. This shows that the older players are either losing talent and hitting below .100, getting hurt, or retiring. It might suggest that 35 is a possible drop-off age where talent level declines afterwards. My second visualization displays a scatter plot of batting average by age for the specific age and average restrictions. It is not a sharp trend, but there is definitely a downward slope as age goes up average goes down. This further suggests the drop-off after age 35."
   ]
  },
  {
   "cell_type": "code",
   "execution_count": 310,
   "id": "e64d738a-12a5-4d67-a382-b0ca252e7909",
   "metadata": {},
   "outputs": [
    {
     "name": "stdout",
     "output_type": "stream",
     "text": [
      "                              Batting Average                      Age         \\\n",
      "                                         mean    max    min       mean    max   \n",
      "By Age      35.0                      0.26375  0.429  0.182        NaN    NaN   \n",
      "            36.0                      0.23720  0.294  0.188        NaN    NaN   \n",
      "            37.0                      0.22400  0.341  0.148        NaN    NaN   \n",
      "            38.0                      0.23050  0.257  0.204        NaN    NaN   \n",
      "            39.0                      0.23400  0.234  0.234        NaN    NaN   \n",
      "            40.0                      0.17000  0.170  0.170        NaN    NaN   \n",
      "            41.0                      0.11100  0.111  0.111        NaN    NaN   \n",
      "By Position Catcher                       NaN    NaN    NaN  29.563684  38.49   \n",
      "            Designated_Hitter             NaN    NaN    NaN  30.389444  38.76   \n",
      "            First_Baseman                 NaN    NaN    NaN  29.474727  48.52   \n",
      "            Outfielder                    NaN    NaN    NaN  28.953454  42.60   \n",
      "            Relief_Pitcher                NaN    NaN    NaN  28.539810  42.30   \n",
      "            Second_Baseman                NaN    NaN    NaN  29.026897  41.21   \n",
      "            Shortstop                     NaN    NaN    NaN  28.402885  39.85   \n",
      "            Starting_Pitcher              NaN    NaN    NaN  28.236109  44.28   \n",
      "            Third_Baseman                 NaN    NaN    NaN  28.691111  37.43   \n",
      "\n",
      "                                      \n",
      "                                 min  \n",
      "By Age      35.0                 NaN  \n",
      "            36.0                 NaN  \n",
      "            37.0                 NaN  \n",
      "            38.0                 NaN  \n",
      "            39.0                 NaN  \n",
      "            40.0                 NaN  \n",
      "            41.0                 NaN  \n",
      "By Position Catcher            22.34  \n",
      "            Designated_Hitter  23.62  \n",
      "            First_Baseman      22.81  \n",
      "            Outfielder         21.46  \n",
      "            Relief_Pitcher     21.78  \n",
      "            Second_Baseman     22.61  \n",
      "            Shortstop          22.39  \n",
      "            Starting_Pitcher   20.90  \n",
      "            Third_Baseman      22.42  \n"
     ]
    }
   ],
   "source": [
    "baseball = pd.read_csv('baseball_players.csv')\n",
    "groupeddf = baseball.groupby('Position')\n",
    "agg1 = groupeddf.agg({'Age': ['mean', 'max', 'min']})\n",
    "agg2 = df.groupby('Age').agg({'Batting Average':['mean', 'max', 'min']})\n",
    "combined = pd.concat({'By Age': agg2, 'By Position': agg1}, axis=0)\n",
    "print(combined)\n"
   ]
  },
  {
   "cell_type": "code",
   "execution_count": 312,
   "id": "9280ac19-10a5-4aa2-8598-e44d82d35634",
   "metadata": {},
   "outputs": [
    {
     "name": "stdout",
     "output_type": "stream",
     "text": [
      "                              Batting Average               Height(inches)  \\\n",
      "                                         mean    max    min           mean   \n",
      "By Age      35.0                      0.26375  0.429  0.182            NaN   \n",
      "            36.0                      0.23720  0.294  0.188            NaN   \n",
      "            37.0                      0.22400  0.341  0.148            NaN   \n",
      "            38.0                      0.23050  0.257  0.204            NaN   \n",
      "            39.0                      0.23400  0.234  0.234            NaN   \n",
      "            40.0                      0.17000  0.170  0.170            NaN   \n",
      "            41.0                      0.11100  0.111  0.111            NaN   \n",
      "By Position Catcher                       NaN    NaN    NaN      72.723684   \n",
      "            Designated_Hitter             NaN    NaN    NaN      74.222222   \n",
      "            First_Baseman                 NaN    NaN    NaN      74.000000   \n",
      "            Outfielder                    NaN    NaN    NaN      73.010309   \n",
      "            Relief_Pitcher                NaN    NaN    NaN      74.374603   \n",
      "            Second_Baseman                NaN    NaN    NaN      71.362069   \n",
      "            Shortstop                     NaN    NaN    NaN      71.903846   \n",
      "            Starting_Pitcher              NaN    NaN    NaN      74.719457   \n",
      "            Third_Baseman                 NaN    NaN    NaN      73.044444   \n",
      "\n",
      "                                           \n",
      "                                max   min  \n",
      "By Age      35.0                NaN   NaN  \n",
      "            36.0                NaN   NaN  \n",
      "            37.0                NaN   NaN  \n",
      "            38.0                NaN   NaN  \n",
      "            39.0                NaN   NaN  \n",
      "            40.0                NaN   NaN  \n",
      "            41.0                NaN   NaN  \n",
      "By Position Catcher            76.0  69.0  \n",
      "            Designated_Hitter  77.0  70.0  \n",
      "            First_Baseman      80.0  70.0  \n",
      "            Outfielder         78.0  68.0  \n",
      "            Relief_Pitcher     83.0  68.0  \n",
      "            Second_Baseman     75.0  67.0  \n",
      "            Shortstop          75.0  67.0  \n",
      "            Starting_Pitcher   82.0  69.0  \n",
      "            Third_Baseman      77.0  68.0  \n"
     ]
    }
   ],
   "source": [
    "groupeddf = baseball.groupby('Position')\n",
    "gdf = groupeddf.agg({'Height(inches)': ['mean', 'max', 'min']})\n",
    "agg2 = df.groupby('Age').agg({'Batting Average':['mean', 'max', 'min']})\n",
    "combined1 = pd.concat({'By Age': agg2, 'By Position': gdf}, axis=0)\n",
    "print(combined1)"
   ]
  },
  {
   "cell_type": "markdown",
   "id": "26024c7c-59e5-4cac-a793-9367f7840723",
   "metadata": {},
   "source": [
    "### Description:"
   ]
  },
  {
   "cell_type": "markdown",
   "id": "72e623e9-a134-4915-b2c0-12b87f3f72d1",
   "metadata": {},
   "source": [
    "In these 2 data visualizations, I aggregated the dataframes after combining them. Because of the differences in data restrictions for each data set, it was nearly impossible to create a graph that would make sense. Instead, these two visualizations show aggregates of data frames. The first data visualization shows the aggregate of batting average by age, along with age by position. You can clearly see the mean batting average and max batting average go down as the age goes up. Right below, it shows that the highest mean age is at the position DH. The highest maximum age is 48 at first base. This suggests that the highest longevity is at these two positions and implies that most of the batting averages I was retrieving for 35-year-olds and above are playing these positions. The second data visualization displays the aggregate of batting average by age and height by position. This shows the largest mean height is again DH and 1st base. This may imply the height of these 35+ year olds to be on the taller end."
   ]
  },
  {
   "cell_type": "markdown",
   "id": "9e53c0c3-e238-4f2e-8ef5-14f177e54639",
   "metadata": {},
   "source": [
    "### Reflection:"
   ]
  },
  {
   "cell_type": "markdown",
   "id": "56af396d-0552-4af8-9e13-4a6ae19af14d",
   "metadata": {},
   "source": [
    "This data corroborates my claim that the positions of 1st base and DH are better for durability. It shows the batting average going down as age goes up. The largest mean and max ages are at 1st base and DH. This is why most of the averages depicted are actually pretty good despite the decreasing trend. The players who are that old are only still in the league for their hitting. One aspect I wish I were able to look at was the average by position as well as weight by age. Baseball reference used a number system with symbols for the position, which made it hard to code in. They also didn't include weight with batting average. I would like to look more in-depth at whether weights are increasing as players are getting older. I would also like to look at the slugging percentage by position to confirm my hypothesis that players at 1st base and DH are most often power hitters. "
   ]
  },
  {
   "cell_type": "code",
   "execution_count": null,
   "id": "399760b0-cac9-485f-b0bf-cf97cb52acdb",
   "metadata": {},
   "outputs": [],
   "source": []
  }
 ],
 "metadata": {
  "kernelspec": {
   "display_name": "Python [conda env:base] *",
   "language": "python",
   "name": "conda-base-py"
  },
  "language_info": {
   "codemirror_mode": {
    "name": "ipython",
    "version": 3
   },
   "file_extension": ".py",
   "mimetype": "text/x-python",
   "name": "python",
   "nbconvert_exporter": "python",
   "pygments_lexer": "ipython3",
   "version": "3.12.7"
  }
 },
 "nbformat": 4,
 "nbformat_minor": 5
}
